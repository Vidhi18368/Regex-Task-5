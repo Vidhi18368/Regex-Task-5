{
 "cells": [
  {
   "cell_type": "markdown",
   "metadata": {},
   "source": [
    "# TASK 5\n",
    "\n",
    "# Name: Vidhi Parekh\n",
    "\n",
    "# Registration No.: SIRSS1224"
   ]
  },
  {
   "cell_type": "markdown",
   "metadata": {},
   "source": [
    "# Q1. Given a list of integers, write a function to return the sum of all prime numbers in that list."
   ]
  },
  {
   "cell_type": "code",
   "execution_count": 8,
   "metadata": {},
   "outputs": [
    {
     "name": "stdout",
     "output_type": "stream",
     "text": [
      "7 13\n",
      "The prime numbers in list : 7 13 \n",
      "Sum of primes is : 20\n"
     ]
    }
   ],
   "source": [
    "def sumOfprimes(l1):\n",
    "    Primes=[]\n",
    "    list1=list(map(lambda x:int(x),l1))\n",
    "    Primesum=0\n",
    "    l=len(list1)\n",
    "    count=0\n",
    "    while count<l:\n",
    "        flag=0\n",
    "        for nums in range(2,list1[count]//2):\n",
    "            if list1[count]%nums==0:  \n",
    "                flag=1\n",
    "                break\n",
    "        if flag==0:\n",
    "            Primes.append(list1[count])\n",
    "            Primesum+=list1[count]\n",
    "        count+=1\n",
    "    Primes.append(Primesum)\n",
    "    return Primes\n",
    "l1=input().split()\n",
    "\n",
    "primes=sumOfprimes(l1)\n",
    "\n",
    "print('The prime numbers in list :',end=' ')\n",
    "for num in range(0,len(primes)-1):\n",
    "    print(primes[num],end=' ')\n",
    "print('\\nSum of primes is :',primes[-1])"
   ]
  },
  {
   "cell_type": "markdown",
   "metadata": {},
   "source": []
  },
  {
   "cell_type": "markdown",
   "metadata": {},
   "source": [
    "# Q2. Given a list of integers, write a function to check whether the list is strictly increasing or not."
   ]
  },
  {
   "cell_type": "code",
   "execution_count": 3,
   "metadata": {},
   "outputs": [
    {
     "name": "stdout",
     "output_type": "stream",
     "text": [
      "12 20 90\n",
      "List is strictly increases :  True\n"
     ]
    }
   ],
   "source": [
    "def Inc(l):\n",
    "    flag=True\n",
    "    for i in range(1,len(l)):\n",
    "        if l[i-1]>l[i]:\n",
    "            flag=False\n",
    "            break\n",
    "    return flag\n",
    "l1=input().split()\n",
    "list1=list(map(lambda x:int(x),l1))\n",
    "print('List is strictly increases : ',Inc(list1))"
   ]
  },
  {
   "cell_type": "code",
   "execution_count": null,
   "metadata": {},
   "outputs": [],
   "source": []
  },
  {
   "cell_type": "markdown",
   "metadata": {},
   "source": [
    "# Q3. Write a function to check whether a given list is expanding or not (the difference between adjacent elements should keep on increasing)."
   ]
  },
  {
   "cell_type": "code",
   "execution_count": 4,
   "metadata": {},
   "outputs": [
    {
     "name": "stdout",
     "output_type": "stream",
     "text": [
      "9 10 11\n",
      "List is expanding:  True\n"
     ]
    }
   ],
   "source": [
    "def exp(l):\n",
    "    diff=0\n",
    "    flag=True\n",
    "    for i in range(1,len(l)):\n",
    "        diff1=l[i]-l[i-1]\n",
    "        if diff>diff1:\n",
    "            flag=False\n",
    "            break\n",
    "        diff=diff1\n",
    "            \n",
    "    return  flag\n",
    "l1=input().split()\n",
    "list1=list(map(lambda x:int(x),l1))\n",
    "print('List is expanding: ',exp(list1))"
   ]
  },
  {
   "cell_type": "markdown",
   "metadata": {},
   "source": [
    "# Q4. Write a function to calculate all permutations of a given string. (Without using itertools)"
   ]
  },
  {
   "cell_type": "code",
   "execution_count": 5,
   "metadata": {},
   "outputs": [
    {
     "name": "stdout",
     "output_type": "stream",
     "text": [
      "123\n",
      "123\n",
      "132\n",
      "213\n",
      "231\n",
      "321\n",
      "312\n"
     ]
    }
   ],
   "source": [
    "def permutations(string, step = 0):\n",
    "\n",
    "    # if we've gotten to the end, print the permutation\n",
    "    if step == len(string):\n",
    "        print(\"\".join(string))\n",
    "\n",
    "    # everything to the right of step has not been swapped yet\n",
    "    for i in range(step, len(string)):\n",
    "\n",
    "        # copy the string (store as array)\n",
    "        string_copy = [character for character in string]\n",
    "\n",
    "        # swap the current index with the step\n",
    "        string_copy[step], string_copy[i] = string_copy[i], string_copy[step]\n",
    "\n",
    "        # recurse on the portion of the string that has not been swapped yet (now it's index will begin with step + 1)\n",
    "        permutations(string_copy, step + 1)\n",
    "permutations(str(input()))"
   ]
  }
 ],
 "metadata": {
  "kernelspec": {
   "display_name": "Python 3",
   "language": "python",
   "name": "python3"
  },
  "language_info": {
   "codemirror_mode": {
    "name": "ipython",
    "version": 3
   },
   "file_extension": ".py",
   "mimetype": "text/x-python",
   "name": "python",
   "nbconvert_exporter": "python",
   "pygments_lexer": "ipython3",
   "version": "3.8.5"
  }
 },
 "nbformat": 4,
 "nbformat_minor": 4
}
